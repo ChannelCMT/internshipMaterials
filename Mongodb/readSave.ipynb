{
 "cells": [
  {
   "cell_type": "code",
   "execution_count": 1,
   "metadata": {
    "collapsed": true
   },
   "outputs": [],
   "source": [
    "import pymongo\n",
    "import pandas as pd\n",
    "from datetime import datetime"
   ]
  },
  {
   "cell_type": "code",
   "execution_count": 2,
   "metadata": {
    "collapsed": true
   },
   "outputs": [],
   "source": [
    "symbolList = ['btc.usd.q:okef', 'eth.usd.q:okef', 'eos.usd.q:okef', 'ltc.usd.q:okef']\n",
    "\n",
    "client = pymongo.MongoClient('172.16.11.81', 27017)"
   ]
  },
  {
   "cell_type": "code",
   "execution_count": 3,
   "metadata": {
    "collapsed": true
   },
   "outputs": [],
   "source": [
    "from datetime import datetime\n",
    "\n",
    "def readAll(collection, start, end):\n",
    "    return pd.DataFrame(\n",
    "        list(collection.find({\"datetime\": {'$gt': start, '$lt': end}}))\n",
    "    )"
   ]
  },
  {
   "cell_type": "code",
   "execution_count": 4,
   "metadata": {},
   "outputs": [
    {
     "name": "stdout",
     "output_type": "stream",
     "text": [
      "btc.usd.q:okef\n",
      "eth.usd.q:okef\n",
      "eos.usd.q:okef\n",
      "ltc.usd.q:okef\n"
     ]
    }
   ],
   "source": [
    "for s in symbolList:\n",
    "    print(s)\n",
    "    data = readAll(client['VnTrader_1Min_Db'][s], datetime(2019,1,1), datetime(2019,12,31))\n",
    "    data.to_csv('%s.csv'%s[:3])"
   ]
  },
  {
   "cell_type": "code",
   "execution_count": 6,
   "metadata": {},
   "outputs": [],
   "source": [
    "dataIf = readAll(client['VnTrader_1Min_Db_contest']['IF88:CTP'], datetime(2014,11,30), datetime(2019,11,30))\n",
    "dataIf.to_csv('IF88.csv')"
   ]
  },
  {
   "cell_type": "code",
   "execution_count": 10,
   "metadata": {},
   "outputs": [
    {
     "data": {
      "text/html": [
       "<div>\n",
       "<style scoped>\n",
       "    .dataframe tbody tr th:only-of-type {\n",
       "        vertical-align: middle;\n",
       "    }\n",
       "\n",
       "    .dataframe tbody tr th {\n",
       "        vertical-align: top;\n",
       "    }\n",
       "\n",
       "    .dataframe thead th {\n",
       "        text-align: right;\n",
       "    }\n",
       "</style>\n",
       "<table border=\"1\" class=\"dataframe\">\n",
       "  <thead>\n",
       "    <tr style=\"text-align: right;\">\n",
       "      <th></th>\n",
       "      <th>_id</th>\n",
       "      <th>close</th>\n",
       "      <th>date</th>\n",
       "      <th>datetime</th>\n",
       "      <th>exchange</th>\n",
       "      <th>high</th>\n",
       "      <th>low</th>\n",
       "      <th>open</th>\n",
       "      <th>openInterest</th>\n",
       "      <th>symbol</th>\n",
       "      <th>time</th>\n",
       "      <th>trading_date</th>\n",
       "      <th>volume</th>\n",
       "      <th>vtSymbol</th>\n",
       "    </tr>\n",
       "  </thead>\n",
       "  <tbody>\n",
       "    <tr>\n",
       "      <th>300805</th>\n",
       "      <td>5de6584a76a01f64b3178dcd</td>\n",
       "      <td>3828.4</td>\n",
       "      <td>20191129</td>\n",
       "      <td>2019-11-29 14:55:00</td>\n",
       "      <td>CTP</td>\n",
       "      <td>3829.2</td>\n",
       "      <td>3827.4</td>\n",
       "      <td>3829.0</td>\n",
       "      <td>94383</td>\n",
       "      <td>IF88</td>\n",
       "      <td>14:55:00</td>\n",
       "      <td>2019-11-29</td>\n",
       "      <td>353</td>\n",
       "      <td>IF88:CTP</td>\n",
       "    </tr>\n",
       "    <tr>\n",
       "      <th>300806</th>\n",
       "      <td>5de6584a76a01f64b3178dce</td>\n",
       "      <td>3826.0</td>\n",
       "      <td>20191129</td>\n",
       "      <td>2019-11-29 14:56:00</td>\n",
       "      <td>CTP</td>\n",
       "      <td>3828.4</td>\n",
       "      <td>3825.8</td>\n",
       "      <td>3827.8</td>\n",
       "      <td>94545</td>\n",
       "      <td>IF88</td>\n",
       "      <td>14:56:00</td>\n",
       "      <td>2019-11-29</td>\n",
       "      <td>291</td>\n",
       "      <td>IF88:CTP</td>\n",
       "    </tr>\n",
       "    <tr>\n",
       "      <th>300807</th>\n",
       "      <td>5de6584a76a01f64b3178dcf</td>\n",
       "      <td>3826.8</td>\n",
       "      <td>20191129</td>\n",
       "      <td>2019-11-29 14:57:00</td>\n",
       "      <td>CTP</td>\n",
       "      <td>3827.2</td>\n",
       "      <td>3825.8</td>\n",
       "      <td>3826.0</td>\n",
       "      <td>94866</td>\n",
       "      <td>IF88</td>\n",
       "      <td>14:57:00</td>\n",
       "      <td>2019-11-29</td>\n",
       "      <td>520</td>\n",
       "      <td>IF88:CTP</td>\n",
       "    </tr>\n",
       "    <tr>\n",
       "      <th>300808</th>\n",
       "      <td>5de6584a76a01f64b3178dd0</td>\n",
       "      <td>3826.8</td>\n",
       "      <td>20191129</td>\n",
       "      <td>2019-11-29 14:58:00</td>\n",
       "      <td>CTP</td>\n",
       "      <td>3827.4</td>\n",
       "      <td>3826.4</td>\n",
       "      <td>3826.4</td>\n",
       "      <td>95106</td>\n",
       "      <td>IF88</td>\n",
       "      <td>14:58:00</td>\n",
       "      <td>2019-11-29</td>\n",
       "      <td>466</td>\n",
       "      <td>IF88:CTP</td>\n",
       "    </tr>\n",
       "    <tr>\n",
       "      <th>300809</th>\n",
       "      <td>5de6584a76a01f64b3178dd1</td>\n",
       "      <td>3827.4</td>\n",
       "      <td>20191129</td>\n",
       "      <td>2019-11-29 14:59:00</td>\n",
       "      <td>CTP</td>\n",
       "      <td>3829.2</td>\n",
       "      <td>3826.2</td>\n",
       "      <td>3827.2</td>\n",
       "      <td>95475</td>\n",
       "      <td>IF88</td>\n",
       "      <td>14:59:00</td>\n",
       "      <td>2019-11-29</td>\n",
       "      <td>794</td>\n",
       "      <td>IF88:CTP</td>\n",
       "    </tr>\n",
       "  </tbody>\n",
       "</table>\n",
       "</div>"
      ],
      "text/plain": [
       "                             _id   close      date            datetime  \\\n",
       "300805  5de6584a76a01f64b3178dcd  3828.4  20191129 2019-11-29 14:55:00   \n",
       "300806  5de6584a76a01f64b3178dce  3826.0  20191129 2019-11-29 14:56:00   \n",
       "300807  5de6584a76a01f64b3178dcf  3826.8  20191129 2019-11-29 14:57:00   \n",
       "300808  5de6584a76a01f64b3178dd0  3826.8  20191129 2019-11-29 14:58:00   \n",
       "300809  5de6584a76a01f64b3178dd1  3827.4  20191129 2019-11-29 14:59:00   \n",
       "\n",
       "       exchange    high     low    open  openInterest symbol      time  \\\n",
       "300805      CTP  3829.2  3827.4  3829.0         94383   IF88  14:55:00   \n",
       "300806      CTP  3828.4  3825.8  3827.8         94545   IF88  14:56:00   \n",
       "300807      CTP  3827.2  3825.8  3826.0         94866   IF88  14:57:00   \n",
       "300808      CTP  3827.4  3826.4  3826.4         95106   IF88  14:58:00   \n",
       "300809      CTP  3829.2  3826.2  3827.2         95475   IF88  14:59:00   \n",
       "\n",
       "       trading_date  volume  vtSymbol  \n",
       "300805   2019-11-29     353  IF88:CTP  \n",
       "300806   2019-11-29     291  IF88:CTP  \n",
       "300807   2019-11-29     520  IF88:CTP  \n",
       "300808   2019-11-29     466  IF88:CTP  \n",
       "300809   2019-11-29     794  IF88:CTP  "
      ]
     },
     "execution_count": 10,
     "metadata": {},
     "output_type": "execute_result"
    }
   ],
   "source": [
    "dataIf.tail()"
   ]
  },
  {
   "cell_type": "code",
   "execution_count": 10,
   "metadata": {
    "collapsed": true
   },
   "outputs": [],
   "source": [
    "# dataDict = {s[:3]: pd.read_csv('%s.csv'%s[:3]) for s in symbolList}"
   ]
  },
  {
   "cell_type": "code",
   "execution_count": 12,
   "metadata": {
    "collapsed": true
   },
   "outputs": [],
   "source": [
    "# dataDict"
   ]
  },
  {
   "cell_type": "code",
   "execution_count": 13,
   "metadata": {
    "collapsed": true
   },
   "outputs": [],
   "source": [
    "# for df in dataDict.values():\n",
    "#     df['datetime'] = list(map(lambda x: datetime.strptime(x, \"%Y-%m-%d %H:%M:%S\"), df['datetime']))\n",
    "#     df.pop('_id')\n",
    "#     df.pop('Unnamed: 0')"
   ]
  },
  {
   "cell_type": "code",
   "execution_count": 14,
   "metadata": {},
   "outputs": [
    {
     "data": {
      "text/html": [
       "<div>\n",
       "<style>\n",
       "    .dataframe thead tr:only-child th {\n",
       "        text-align: right;\n",
       "    }\n",
       "\n",
       "    .dataframe thead th {\n",
       "        text-align: left;\n",
       "    }\n",
       "\n",
       "    .dataframe tbody tr th {\n",
       "        vertical-align: top;\n",
       "    }\n",
       "</style>\n",
       "<table border=\"1\" class=\"dataframe\">\n",
       "  <thead>\n",
       "    <tr style=\"text-align: right;\">\n",
       "      <th></th>\n",
       "      <th>close</th>\n",
       "      <th>date</th>\n",
       "      <th>datetime</th>\n",
       "      <th>exchange</th>\n",
       "      <th>high</th>\n",
       "      <th>low</th>\n",
       "      <th>open</th>\n",
       "      <th>openInterest</th>\n",
       "      <th>symbol</th>\n",
       "      <th>time</th>\n",
       "      <th>timestamp</th>\n",
       "      <th>volume</th>\n",
       "      <th>vtSymbol</th>\n",
       "    </tr>\n",
       "  </thead>\n",
       "  <tbody>\n",
       "    <tr>\n",
       "      <th>349881</th>\n",
       "      <td>10149.99</td>\n",
       "      <td>20190731</td>\n",
       "      <td>2019-07-31 23:55:00</td>\n",
       "      <td>okef</td>\n",
       "      <td>10155.00</td>\n",
       "      <td>10148.72</td>\n",
       "      <td>10154.99</td>\n",
       "      <td>0</td>\n",
       "      <td>btc.usd.q</td>\n",
       "      <td>23:55:00</td>\n",
       "      <td>1564588500</td>\n",
       "      <td>2685.0</td>\n",
       "      <td>btc.usd.q:okef</td>\n",
       "    </tr>\n",
       "    <tr>\n",
       "      <th>349882</th>\n",
       "      <td>10149.35</td>\n",
       "      <td>20190731</td>\n",
       "      <td>2019-07-31 23:56:00</td>\n",
       "      <td>okef</td>\n",
       "      <td>10154.47</td>\n",
       "      <td>10148.09</td>\n",
       "      <td>10149.99</td>\n",
       "      <td>0</td>\n",
       "      <td>btc.usd.q</td>\n",
       "      <td>23:56:00</td>\n",
       "      <td>1564588560</td>\n",
       "      <td>4599.0</td>\n",
       "      <td>btc.usd.q:okef</td>\n",
       "    </tr>\n",
       "    <tr>\n",
       "      <th>349883</th>\n",
       "      <td>10145.61</td>\n",
       "      <td>20190731</td>\n",
       "      <td>2019-07-31 23:57:00</td>\n",
       "      <td>okef</td>\n",
       "      <td>10155.00</td>\n",
       "      <td>10144.17</td>\n",
       "      <td>10149.35</td>\n",
       "      <td>0</td>\n",
       "      <td>btc.usd.q</td>\n",
       "      <td>23:57:00</td>\n",
       "      <td>1564588620</td>\n",
       "      <td>18491.0</td>\n",
       "      <td>btc.usd.q:okef</td>\n",
       "    </tr>\n",
       "    <tr>\n",
       "      <th>349884</th>\n",
       "      <td>10148.48</td>\n",
       "      <td>20190731</td>\n",
       "      <td>2019-07-31 23:58:00</td>\n",
       "      <td>okef</td>\n",
       "      <td>10148.48</td>\n",
       "      <td>10139.99</td>\n",
       "      <td>10145.61</td>\n",
       "      <td>0</td>\n",
       "      <td>btc.usd.q</td>\n",
       "      <td>23:58:00</td>\n",
       "      <td>1564588680</td>\n",
       "      <td>16881.0</td>\n",
       "      <td>btc.usd.q:okef</td>\n",
       "    </tr>\n",
       "    <tr>\n",
       "      <th>349885</th>\n",
       "      <td>10152.99</td>\n",
       "      <td>20190731</td>\n",
       "      <td>2019-07-31 23:59:00</td>\n",
       "      <td>okef</td>\n",
       "      <td>10153.00</td>\n",
       "      <td>10148.47</td>\n",
       "      <td>10148.47</td>\n",
       "      <td>0</td>\n",
       "      <td>btc.usd.q</td>\n",
       "      <td>23:59:00</td>\n",
       "      <td>1564588740</td>\n",
       "      <td>6377.0</td>\n",
       "      <td>btc.usd.q:okef</td>\n",
       "    </tr>\n",
       "  </tbody>\n",
       "</table>\n",
       "</div>"
      ],
      "text/plain": [
       "           close      date            datetime exchange      high       low  \\\n",
       "349881  10149.99  20190731 2019-07-31 23:55:00     okef  10155.00  10148.72   \n",
       "349882  10149.35  20190731 2019-07-31 23:56:00     okef  10154.47  10148.09   \n",
       "349883  10145.61  20190731 2019-07-31 23:57:00     okef  10155.00  10144.17   \n",
       "349884  10148.48  20190731 2019-07-31 23:58:00     okef  10148.48  10139.99   \n",
       "349885  10152.99  20190731 2019-07-31 23:59:00     okef  10153.00  10148.47   \n",
       "\n",
       "            open  openInterest     symbol      time   timestamp   volume  \\\n",
       "349881  10154.99             0  btc.usd.q  23:55:00  1564588500   2685.0   \n",
       "349882  10149.99             0  btc.usd.q  23:56:00  1564588560   4599.0   \n",
       "349883  10149.35             0  btc.usd.q  23:57:00  1564588620  18491.0   \n",
       "349884  10145.61             0  btc.usd.q  23:58:00  1564588680  16881.0   \n",
       "349885  10148.47             0  btc.usd.q  23:59:00  1564588740   6377.0   \n",
       "\n",
       "              vtSymbol  \n",
       "349881  btc.usd.q:okef  \n",
       "349882  btc.usd.q:okef  \n",
       "349883  btc.usd.q:okef  \n",
       "349884  btc.usd.q:okef  \n",
       "349885  btc.usd.q:okef  "
      ]
     },
     "execution_count": 14,
     "metadata": {},
     "output_type": "execute_result"
    }
   ],
   "source": [
    "# dataDict['btc'].tail()"
   ]
  },
  {
   "cell_type": "code",
   "execution_count": 7,
   "metadata": {
    "collapsed": true
   },
   "outputs": [],
   "source": [
    "client = pymongo.MongoClient('localhost', 33333)"
   ]
  },
  {
   "cell_type": "code",
   "execution_count": 11,
   "metadata": {
    "collapsed": true
   },
   "outputs": [],
   "source": [
    "def updateData(symbol, dataCsv):\n",
    "    collection = client['VnTrader_1Min_Db_Case'][symbol]\n",
    "    collection.create_index([('datetime', pymongo.ASCENDING)], unique=True)\n",
    "    for index, row in dataCsv.iterrows():\n",
    "        bar = {}\n",
    "        bar['open'] = row.open\n",
    "        bar['close'] = row.close\n",
    "        bar['high'] = row.high\n",
    "        bar['low'] = row.low\n",
    "        bar['volume'] = row.volume\n",
    "        bar['symbol'] = symbol\n",
    "        bar['vtSymbol'] = symbol\n",
    "        bar['datetime'] = row.datetime\n",
    "        bar['date'] = bar['datetime'].date().strftime('%Y%m%d')\n",
    "        bar['time'] = bar['datetime'].time().strftime('%H:%M:%S')\n",
    "        ######################################\n",
    "        flt = {'datetime': bar['datetime']}\n",
    "        ######################################\n",
    "        collection.update_one(flt, {'$set':bar}, upsert=True)\n",
    "    return '%s Done'%symbol"
   ]
  },
  {
   "cell_type": "code",
   "execution_count": 12,
   "metadata": {},
   "outputs": [
    {
     "data": {
      "text/plain": [
       "'IF88:CTP Done'"
      ]
     },
     "execution_count": 12,
     "metadata": {},
     "output_type": "execute_result"
    }
   ],
   "source": [
    "# for s, df in dataDict.items():\n",
    "updateData('IF88:CTP', dataIf)"
   ]
  },
  {
   "cell_type": "code",
   "execution_count": 13,
   "metadata": {},
   "outputs": [
    {
     "name": "stderr",
     "output_type": "stream",
     "text": [
      "D:\\Anaconda3\\lib\\site-packages\\IPython\\core\\interactiveshell.py:2723: DtypeWarning: Columns (3) have mixed types. Specify dtype option on import or set low_memory=False.\n",
      "  interactivity=interactivity, compiler=compiler, result=result)\n"
     ]
    }
   ],
   "source": [
    "dataBTC = pd.read_csv('btc.csv')"
   ]
  },
  {
   "cell_type": "code",
   "execution_count": null,
   "metadata": {
    "collapsed": true
   },
   "outputs": [],
   "source": []
  }
 ],
 "metadata": {
  "kernelspec": {
   "display_name": "Python 3",
   "language": "python",
   "name": "python3"
  },
  "language_info": {
   "codemirror_mode": {
    "name": "ipython",
    "version": 3
   },
   "file_extension": ".py",
   "mimetype": "text/x-python",
   "name": "python",
   "nbconvert_exporter": "python",
   "pygments_lexer": "ipython3",
   "version": "3.6.1"
  }
 },
 "nbformat": 4,
 "nbformat_minor": 2
}
