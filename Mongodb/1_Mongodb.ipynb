{
 "cells": [
  {
   "cell_type": "markdown",
   "metadata": {},
   "source": [
    "## 一、Mongodb基础使用教程\n",
    "1. 安装Mongodb数据库\n",
    "2. 安装Robomongo可视化数据库\n",
    "3. 安装pymongo交互工具\n",
    "4. 安装datautils方法封装\n",
    "5. 导入Excel数据\n",
    "6. 数据库数据读取"
   ]
  },
  {
   "cell_type": "markdown",
   "metadata": {},
   "source": [
    "1. 安装Mongodb: https://www.mongodb.com/download-center/community\n",
    "2. 安装Robomongo: http://mongodb-tools.com/tool/robomongo/\n",
    "3. 安装pymongo：pip install pymongo"
   ]
  },
  {
   "cell_type": "markdown",
   "metadata": {},
   "source": [
    "## 数据库基本知识\n",
    "    1. Client: host, port\n",
    "    2. DataBase\n",
    "    3. Collections"
   ]
  },
  {
   "cell_type": "markdown",
   "metadata": {},
   "source": [
    "## 5. 导入Excel\n",
    "### 相对路径\n",
    "\n",
    "./当前路径\n",
    "\n",
    "../上一个目录\n",
    "\n",
    "../../上上个目录"
   ]
  },
  {
   "cell_type": "code",
   "execution_count": 1,
   "metadata": {
    "collapsed": true
   },
   "outputs": [],
   "source": [
    "import pymongo\n",
    "import pandas as pd\n",
    "from datetime import datetime"
   ]
  },
  {
   "cell_type": "code",
   "execution_count": 2,
   "metadata": {
    "collapsed": true
   },
   "outputs": [],
   "source": [
    "dataCsv = pd.read_csv('../IF88.csv')"
   ]
  },
  {
   "cell_type": "code",
   "execution_count": 4,
   "metadata": {},
   "outputs": [
    {
     "data": {
      "text/html": [
       "<div>\n",
       "<style scoped>\n",
       "    .dataframe tbody tr th:only-of-type {\n",
       "        vertical-align: middle;\n",
       "    }\n",
       "\n",
       "    .dataframe tbody tr th {\n",
       "        vertical-align: top;\n",
       "    }\n",
       "\n",
       "    .dataframe thead th {\n",
       "        text-align: right;\n",
       "    }\n",
       "</style>\n",
       "<table border=\"1\" class=\"dataframe\">\n",
       "  <thead>\n",
       "    <tr style=\"text-align: right;\">\n",
       "      <th></th>\n",
       "      <th>Unnamed: 0</th>\n",
       "      <th>_id</th>\n",
       "      <th>close</th>\n",
       "      <th>date</th>\n",
       "      <th>datetime</th>\n",
       "      <th>exchange</th>\n",
       "      <th>high</th>\n",
       "      <th>low</th>\n",
       "      <th>open</th>\n",
       "      <th>openInterest</th>\n",
       "      <th>symbol</th>\n",
       "      <th>time</th>\n",
       "      <th>trading_date</th>\n",
       "      <th>volume</th>\n",
       "      <th>vtSymbol</th>\n",
       "    </tr>\n",
       "  </thead>\n",
       "  <tbody>\n",
       "    <tr>\n",
       "      <th>365789</th>\n",
       "      <td>365789</td>\n",
       "      <td>5e16c1cb8fb6b8371667074e</td>\n",
       "      <td>4090.8</td>\n",
       "      <td>20191230</td>\n",
       "      <td>2019-12-30 14:59:00</td>\n",
       "      <td>CTP</td>\n",
       "      <td>4091.6</td>\n",
       "      <td>4089.6</td>\n",
       "      <td>4090.4</td>\n",
       "      <td>82058</td>\n",
       "      <td>IF88</td>\n",
       "      <td>14:59:00</td>\n",
       "      <td>2019-12-30</td>\n",
       "      <td>968</td>\n",
       "      <td>IF88:CTP</td>\n",
       "    </tr>\n",
       "  </tbody>\n",
       "</table>\n",
       "</div>"
      ],
      "text/plain": [
       "        Unnamed: 0                       _id   close      date  \\\n",
       "365789      365789  5e16c1cb8fb6b8371667074e  4090.8  20191230   \n",
       "\n",
       "                   datetime exchange    high     low    open  openInterest  \\\n",
       "365789  2019-12-30 14:59:00      CTP  4091.6  4089.6  4090.4         82058   \n",
       "\n",
       "       symbol      time trading_date  volume  vtSymbol  \n",
       "365789   IF88  14:59:00   2019-12-30     968  IF88:CTP  "
      ]
     },
     "execution_count": 4,
     "metadata": {},
     "output_type": "execute_result"
    }
   ],
   "source": [
    "dataCsv.tail(1)"
   ]
  },
  {
   "cell_type": "code",
   "execution_count": 5,
   "metadata": {},
   "outputs": [
    {
     "data": {
      "text/plain": [
       "'2014-01-02 09:15:00'"
      ]
     },
     "execution_count": 5,
     "metadata": {},
     "output_type": "execute_result"
    }
   ],
   "source": [
    "dataCsv['datetime'].iloc[0]"
   ]
  },
  {
   "cell_type": "code",
   "execution_count": 6,
   "metadata": {
    "collapsed": true
   },
   "outputs": [],
   "source": [
    "dataCsv['datetime'] = list(map(lambda x: datetime.strptime(x, \"%Y-%m-%d %H:%M:%S\"), dataCsv['datetime']))"
   ]
  },
  {
   "cell_type": "code",
   "execution_count": 8,
   "metadata": {},
   "outputs": [
    {
     "data": {
      "text/plain": [
       "'datetime_1'"
      ]
     },
     "execution_count": 8,
     "metadata": {},
     "output_type": "execute_result"
    }
   ],
   "source": [
    "symbol = 'IF88:CTP'\n",
    "client = pymongo.MongoClient('localhost', 33333)\n",
    "\n",
    "collection = client['VnTrader_1Min_Db_Case'][symbol]\n",
    "\n",
    "############################\n",
    "collection.create_index([('datetime', pymongo.ASCENDING)], unique=True)"
   ]
  },
  {
   "cell_type": "code",
   "execution_count": 9,
   "metadata": {
    "collapsed": true
   },
   "outputs": [],
   "source": [
    "for index, row in dataCsv.iterrows():\n",
    "    bar = {}\n",
    "    bar['open'] = row.open\n",
    "    bar['close'] = row.close\n",
    "    bar['high'] = row.high\n",
    "    bar['low'] = row.low\n",
    "    bar['volume'] = row.volume\n",
    "    bar['symbol'] = symbol\n",
    "    bar['vtSymbol'] = symbol\n",
    "    bar['datetime'] = row.datetime\n",
    "    bar['date'] = bar['datetime'].date().strftime('%Y%m%d')\n",
    "    bar['time'] = bar['datetime'].time().strftime('%H:%M:%S')\n",
    "    ######################################\n",
    "    flt = {'datetime': bar['datetime']}\n",
    "    ######################################\n",
    "    collection.update_one(flt, {'$set':bar}, upsert=True)"
   ]
  },
  {
   "cell_type": "code",
   "execution_count": 10,
   "metadata": {
    "collapsed": true
   },
   "outputs": [],
   "source": [
    "collection.update_one?"
   ]
  },
  {
   "cell_type": "markdown",
   "metadata": {},
   "source": [
    "## 数据库常用命令\n",
    "sort/find"
   ]
  },
  {
   "cell_type": "markdown",
   "metadata": {},
   "source": [
    "## 6. 数据库数据读取"
   ]
  },
  {
   "cell_type": "code",
   "execution_count": 12,
   "metadata": {
    "collapsed": true
   },
   "outputs": [],
   "source": [
    "from datetime import datetime\n",
    "\n",
    "def readAll(collection, start, end):\n",
    "    return pd.DataFrame(\n",
    "        list(collection.find({\"datetime\": {'$gt': start, '$lt': end}}))\n",
    "    )"
   ]
  },
  {
   "cell_type": "code",
   "execution_count": 21,
   "metadata": {
    "collapsed": true
   },
   "outputs": [],
   "source": [
    "IF88 = readAll(client['VnTrader_1Min_Db_Case']['IF88:CTP'], datetime(2019,11,1), datetime(2019,12,31))"
   ]
  },
  {
   "cell_type": "code",
   "execution_count": 25,
   "metadata": {
    "collapsed": true
   },
   "outputs": [],
   "source": [
    "IF88 = IF88.set_index('datetime')"
   ]
  },
  {
   "cell_type": "markdown",
   "metadata": {},
   "source": [
    "7. 数据合并处理\n",
    "    1. resample\n",
    "    2. agg"
   ]
  },
  {
   "cell_type": "code",
   "execution_count": 26,
   "metadata": {
    "collapsed": true
   },
   "outputs": [],
   "source": [
    "def resampleDf(data, freq='H'):\n",
    "    return data.resample(freq).agg({'open':'first', 'high': 'max', 'low': 'min', 'close': 'last', 'volume':'sum'})"
   ]
  },
  {
   "cell_type": "code",
   "execution_count": 27,
   "metadata": {
    "collapsed": true
   },
   "outputs": [],
   "source": [
    "dataResample = resampleDf(IF88, '5Min')"
   ]
  },
  {
   "cell_type": "code",
   "execution_count": 28,
   "metadata": {},
   "outputs": [
    {
     "data": {
      "text/html": [
       "<div>\n",
       "<style scoped>\n",
       "    .dataframe tbody tr th:only-of-type {\n",
       "        vertical-align: middle;\n",
       "    }\n",
       "\n",
       "    .dataframe tbody tr th {\n",
       "        vertical-align: top;\n",
       "    }\n",
       "\n",
       "    .dataframe thead th {\n",
       "        text-align: right;\n",
       "    }\n",
       "</style>\n",
       "<table border=\"1\" class=\"dataframe\">\n",
       "  <thead>\n",
       "    <tr style=\"text-align: right;\">\n",
       "      <th></th>\n",
       "      <th>open</th>\n",
       "      <th>high</th>\n",
       "      <th>low</th>\n",
       "      <th>close</th>\n",
       "      <th>volume</th>\n",
       "    </tr>\n",
       "    <tr>\n",
       "      <th>datetime</th>\n",
       "      <th></th>\n",
       "      <th></th>\n",
       "      <th></th>\n",
       "      <th></th>\n",
       "      <th></th>\n",
       "    </tr>\n",
       "  </thead>\n",
       "  <tbody>\n",
       "    <tr>\n",
       "      <th>2019-12-30 14:35:00</th>\n",
       "      <td>4094.0</td>\n",
       "      <td>4098.2</td>\n",
       "      <td>4092.0</td>\n",
       "      <td>4093.6</td>\n",
       "      <td>1112</td>\n",
       "    </tr>\n",
       "    <tr>\n",
       "      <th>2019-12-30 14:40:00</th>\n",
       "      <td>4094.4</td>\n",
       "      <td>4094.4</td>\n",
       "      <td>4088.4</td>\n",
       "      <td>4091.6</td>\n",
       "      <td>1244</td>\n",
       "    </tr>\n",
       "    <tr>\n",
       "      <th>2019-12-30 14:45:00</th>\n",
       "      <td>4091.6</td>\n",
       "      <td>4098.6</td>\n",
       "      <td>4090.6</td>\n",
       "      <td>4096.8</td>\n",
       "      <td>1120</td>\n",
       "    </tr>\n",
       "    <tr>\n",
       "      <th>2019-12-30 14:50:00</th>\n",
       "      <td>4096.2</td>\n",
       "      <td>4096.2</td>\n",
       "      <td>4088.2</td>\n",
       "      <td>4092.0</td>\n",
       "      <td>1613</td>\n",
       "    </tr>\n",
       "    <tr>\n",
       "      <th>2019-12-30 14:55:00</th>\n",
       "      <td>4092.0</td>\n",
       "      <td>4092.2</td>\n",
       "      <td>4088.6</td>\n",
       "      <td>4090.8</td>\n",
       "      <td>2885</td>\n",
       "    </tr>\n",
       "  </tbody>\n",
       "</table>\n",
       "</div>"
      ],
      "text/plain": [
       "                       open    high     low   close  volume\n",
       "datetime                                                   \n",
       "2019-12-30 14:35:00  4094.0  4098.2  4092.0  4093.6    1112\n",
       "2019-12-30 14:40:00  4094.4  4094.4  4088.4  4091.6    1244\n",
       "2019-12-30 14:45:00  4091.6  4098.6  4090.6  4096.8    1120\n",
       "2019-12-30 14:50:00  4096.2  4096.2  4088.2  4092.0    1613\n",
       "2019-12-30 14:55:00  4092.0  4092.2  4088.6  4090.8    2885"
      ]
     },
     "execution_count": 28,
     "metadata": {},
     "output_type": "execute_result"
    }
   ],
   "source": [
    "dataResample.tail()"
   ]
  },
  {
   "cell_type": "markdown",
   "metadata": {},
   "source": [
    "# 习题\n",
    "1. 写一个循环来导入三个数字货币的数据\n",
    "2. 将最近一个月BTC数据从数据库读出并合成5分钟信号"
   ]
  }
 ],
 "metadata": {
  "kernelspec": {
   "display_name": "Python 3",
   "language": "python",
   "name": "python3"
  },
  "language_info": {
   "codemirror_mode": {
    "name": "ipython",
    "version": 3
   },
   "file_extension": ".py",
   "mimetype": "text/x-python",
   "name": "python",
   "nbconvert_exporter": "python",
   "pygments_lexer": "ipython3",
   "version": "3.6.1"
  }
 },
 "nbformat": 4,
 "nbformat_minor": 2
}
