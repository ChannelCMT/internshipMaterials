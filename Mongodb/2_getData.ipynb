{
 "cells": [
  {
   "cell_type": "markdown",
   "metadata": {},
   "source": [
    "# 获取Candle数据\n",
    "\n",
    "API文档： https://www.okex.me/docs/zh/#futures-line\n",
    "\n",
    "参数： instrument_id, start, end, granularity"
   ]
  },
  {
   "cell_type": "code",
   "execution_count": 1,
   "metadata": {
    "collapsed": true
   },
   "outputs": [],
   "source": [
    "import pandas as pd\n",
    "from datetime import datetime,timedelta\n",
    "import requests\n",
    "import json"
   ]
  },
  {
   "cell_type": "code",
   "execution_count": 2,
   "metadata": {},
   "outputs": [
    {
     "name": "stdout",
     "output_type": "stream",
     "text": [
      "                            0       1       2       3       4       5        6\n",
      "295  2020-01-10T22:22:00.000Z  8149.2  8150.3  8147.3  8147.3  378984  37.8984\n",
      "296  2020-01-10T22:21:00.000Z  8153.2  8153.2  8145.1  8149.1  497714  49.7714\n",
      "297  2020-01-10T22:20:00.000Z  8140.6  8153.2  8140.6  8153.2    3580    0.358\n",
      "298  2020-01-10T22:19:00.000Z  8140.8    8142  8139.9  8140.5     204   0.0204\n",
      "299  2020-01-10T22:18:00.000Z  8129.1  8143.8  8129.1  8139.7  288695  28.8695\n"
     ]
    }
   ],
   "source": [
    "url = 'https://www.okex.me/api/futures/v3/instruments/BTC-USDT-200327/candles?'\n",
    "params = {'granularity':60, 'end': datetime.utcfromtimestamp(int(datetime.timestamp(datetime.now()))).strftime('%Y-%m-%dT%H:%M:%SZ')}\n",
    "r = requests.get(url, params = params,timeout=10).json()\n",
    "print(pd.DataFrame(r).tail())"
   ]
  },
  {
   "cell_type": "markdown",
   "metadata": {},
   "source": [
    "# 循环获取K线\n",
    "限制1440根"
   ]
  },
  {
   "cell_type": "code",
   "execution_count": 3,
   "metadata": {
    "collapsed": true
   },
   "outputs": [],
   "source": [
    "def make_ts(dt):\n",
    "    return int(datetime.timestamp(dt))\n",
    "def make_dtstr(ts):\n",
    "    return datetime.utcfromtimestamp(ts).strftime('%Y-%m-%dT%H:%M:%SZ')\n",
    "\n",
    "def getCandles(instrument_id, granularity, start=None, end=None):\n",
    "    params = {'granularity':granularity}\n",
    "    url = 'https://www.okex.me/api/futures/v3/instruments/'+instrument_id+'/candles?'\n",
    "    end_ts = make_ts(datetime.now())\n",
    "    candles=[]\n",
    "    for i in range(5):\n",
    "        r_start=end_ts- 290 * granularity\n",
    "        params[\"start\"]= make_dtstr(r_start)\n",
    "        params[\"end\"] = make_dtstr(end_ts)\n",
    "        # 访问接口数据转化为json格式\n",
    "        # headers={\"contentType\": \"application/x-www-form-urlencoded\"}, \n",
    "        r = requests.get(url, params = params,timeout=10).json()\n",
    "        print(params[\"start\"],params[\"end\"],len(r))\n",
    "        candles.extend(r)\n",
    "        end_ts = r_start\n",
    "    # 转DataFrame与转datetime格式\n",
    "    btcDf = pd.DataFrame(candles, columns=['datetime', 'open', 'high', 'low', 'close', 'volume', 'BTC_volume'])\n",
    "    btcDf[\"datetime\"] = list(map(lambda x: datetime.strptime(x, \"%Y-%m-%dT%H:%M:%S.%fZ\"), btcDf[\"datetime\"]))\n",
    "    return btcDf"
   ]
  },
  {
   "cell_type": "code",
   "execution_count": 4,
   "metadata": {},
   "outputs": [
    {
     "name": "stdout",
     "output_type": "stream",
     "text": [
      "2020-01-10T22:27:36Z 2020-01-11T03:17:36Z 290\n",
      "2020-01-10T17:37:36Z 2020-01-10T22:27:36Z 290\n",
      "2020-01-10T12:47:36Z 2020-01-10T17:37:36Z 290\n",
      "2020-01-10T07:57:36Z 2020-01-10T12:47:36Z 290\n",
      "2020-01-10T03:07:36Z 2020-01-10T07:57:36Z 280\n"
     ]
    }
   ],
   "source": [
    "btcDf = getCandles('BTC-USDT-200327',60)"
   ]
  },
  {
   "cell_type": "code",
   "execution_count": 5,
   "metadata": {},
   "outputs": [
    {
     "data": {
      "text/html": [
       "<div>\n",
       "<style scoped>\n",
       "    .dataframe tbody tr th:only-of-type {\n",
       "        vertical-align: middle;\n",
       "    }\n",
       "\n",
       "    .dataframe tbody tr th {\n",
       "        vertical-align: top;\n",
       "    }\n",
       "\n",
       "    .dataframe thead th {\n",
       "        text-align: right;\n",
       "    }\n",
       "</style>\n",
       "<table border=\"1\" class=\"dataframe\">\n",
       "  <thead>\n",
       "    <tr style=\"text-align: right;\">\n",
       "      <th></th>\n",
       "      <th>datetime</th>\n",
       "      <th>open</th>\n",
       "      <th>high</th>\n",
       "      <th>low</th>\n",
       "      <th>close</th>\n",
       "      <th>volume</th>\n",
       "      <th>BTC_volume</th>\n",
       "    </tr>\n",
       "  </thead>\n",
       "  <tbody>\n",
       "    <tr>\n",
       "      <th>1435</th>\n",
       "      <td>2020-01-10 03:22:00</td>\n",
       "      <td>7921.6</td>\n",
       "      <td>7922.8</td>\n",
       "      <td>7920.6</td>\n",
       "      <td>7920.6</td>\n",
       "      <td>184921</td>\n",
       "      <td>18.4921</td>\n",
       "    </tr>\n",
       "    <tr>\n",
       "      <th>1436</th>\n",
       "      <td>2020-01-10 03:21:00</td>\n",
       "      <td>7920.1</td>\n",
       "      <td>7923.5</td>\n",
       "      <td>7919.5</td>\n",
       "      <td>7920.8</td>\n",
       "      <td>430546</td>\n",
       "      <td>43.0546</td>\n",
       "    </tr>\n",
       "    <tr>\n",
       "      <th>1437</th>\n",
       "      <td>2020-01-10 03:20:00</td>\n",
       "      <td>7911.7</td>\n",
       "      <td>7920.7</td>\n",
       "      <td>7911.7</td>\n",
       "      <td>7920.7</td>\n",
       "      <td>212480</td>\n",
       "      <td>21.248</td>\n",
       "    </tr>\n",
       "    <tr>\n",
       "      <th>1438</th>\n",
       "      <td>2020-01-10 03:19:00</td>\n",
       "      <td>7908.7</td>\n",
       "      <td>7910.6</td>\n",
       "      <td>7908.7</td>\n",
       "      <td>7910.6</td>\n",
       "      <td>474</td>\n",
       "      <td>0.0474</td>\n",
       "    </tr>\n",
       "    <tr>\n",
       "      <th>1439</th>\n",
       "      <td>2020-01-10 03:18:00</td>\n",
       "      <td>7906.8</td>\n",
       "      <td>7910.4</td>\n",
       "      <td>7906.8</td>\n",
       "      <td>7909.7</td>\n",
       "      <td>5076</td>\n",
       "      <td>0.5076</td>\n",
       "    </tr>\n",
       "  </tbody>\n",
       "</table>\n",
       "</div>"
      ],
      "text/plain": [
       "                datetime    open    high     low   close  volume BTC_volume\n",
       "1435 2020-01-10 03:22:00  7921.6  7922.8  7920.6  7920.6  184921    18.4921\n",
       "1436 2020-01-10 03:21:00  7920.1  7923.5  7919.5  7920.8  430546    43.0546\n",
       "1437 2020-01-10 03:20:00  7911.7  7920.7  7911.7  7920.7  212480     21.248\n",
       "1438 2020-01-10 03:19:00  7908.7  7910.6  7908.7  7910.6     474     0.0474\n",
       "1439 2020-01-10 03:18:00  7906.8  7910.4  7906.8  7909.7    5076     0.5076"
      ]
     },
     "execution_count": 5,
     "metadata": {},
     "output_type": "execute_result"
    }
   ],
   "source": [
    "btcDf.tail()"
   ]
  },
  {
   "cell_type": "markdown",
   "metadata": {},
   "source": [
    "## 转成VNPY需要的数据格式"
   ]
  },
  {
   "cell_type": "code",
   "execution_count": 6,
   "metadata": {
    "collapsed": true
   },
   "outputs": [],
   "source": [
    "import pymongo\n",
    "\n",
    "symbol = 'btc_usdt_cq.future:okex'\n",
    "client = pymongo.MongoClient('localhost', 33333)\n",
    "\n",
    "collection = client['VnTrader_1Min_Db_Coin'][symbol]\n",
    "collection.create_index([('datetime', pymongo.ASCENDING)], unique=True)\n",
    "\n",
    "def transfer2VNPY(data, symbol, collection):\n",
    "    for index, row in data.iterrows():\n",
    "        bar = {}\n",
    "        bar['open'] = row.open\n",
    "        bar['close'] = row.close\n",
    "        bar['high'] = row.high\n",
    "        bar['low'] = row.low\n",
    "        bar['volume'] = row.volume\n",
    "        bar['symbol'] = symbol\n",
    "        bar['vtSymbol'] = symbol\n",
    "        bar['datetime'] = row.datetime\n",
    "        bar['date'] = bar['datetime'].date().strftime('%Y%m%d')\n",
    "        bar['time'] = bar['datetime'].time().strftime('%H:%M:%S')\n",
    "        ######################################\n",
    "        flt = {'datetime': bar['datetime']}\n",
    "        ######################################\n",
    "        collection.update_one(flt, {'$set':bar}, upsert=True)\n",
    "    print('saveDone')"
   ]
  },
  {
   "cell_type": "code",
   "execution_count": 7,
   "metadata": {
    "collapsed": true
   },
   "outputs": [],
   "source": [
    "# transfer2VNPY(btcDf, symbol, collection)"
   ]
  },
  {
   "cell_type": "markdown",
   "metadata": {},
   "source": [
    "# 定时任务\n",
    "Timer 函数第一个参数是时间间隔（单位是秒），第二个参数是要调用的函数名，第三个参数是调用函数的参数(tuple)"
   ]
  },
  {
   "cell_type": "code",
   "execution_count": 8,
   "metadata": {
    "collapsed": true
   },
   "outputs": [],
   "source": [
    "# from datetime import datetime\n",
    "# from threading import Timer\n",
    "# # 打印时间函数\n",
    "# def printTime(inc):\n",
    "#     print(datetime.now().strftime(\"%Y-%m-%d %H:%M:%S\"))\n",
    "#     t = Timer(inc, printTime, (inc,))\n",
    "#     t.start()\n",
    "# # 5s\n",
    "# printTime(5)"
   ]
  },
  {
   "cell_type": "code",
   "execution_count": 9,
   "metadata": {},
   "outputs": [
    {
     "name": "stdout",
     "output_type": "stream",
     "text": [
      "saving\n",
      "2020-01-10T22:27:47Z 2020-01-11T03:17:47Z 290\n",
      "2020-01-10T17:37:47Z 2020-01-10T22:27:47Z 290\n",
      "2020-01-10T12:47:47Z 2020-01-10T17:37:47Z 290\n",
      "2020-01-10T07:57:47Z 2020-01-10T12:47:47Z 290\n",
      "2020-01-10T03:07:47Z 2020-01-10T07:57:47Z 280\n",
      "saveDone\n",
      "saving\n",
      "2020-01-10T22:28:54Z 2020-01-11T03:18:54Z 290\n",
      "2020-01-10T17:38:54Z 2020-01-10T22:28:54Z 290\n",
      "2020-01-10T12:48:54Z 2020-01-10T17:38:54Z 290\n",
      "2020-01-10T07:58:54Z 2020-01-10T12:48:54Z 290\n",
      "2020-01-10T03:08:54Z 2020-01-10T07:58:54Z 280\n",
      "saveDone\n",
      "saving\n",
      "2020-01-10T22:30:01Z 2020-01-11T03:20:01Z 289\n",
      "2020-01-10T17:40:01Z 2020-01-10T22:30:01Z 290\n",
      "2020-01-10T12:50:01Z 2020-01-10T17:40:01Z 290\n",
      "2020-01-10T08:00:01Z 2020-01-10T12:50:01Z 290\n",
      "2020-01-10T03:10:01Z 2020-01-10T08:00:01Z 281\n",
      "saveDone\n",
      "saving\n",
      "2020-01-10T22:31:08Z 2020-01-11T03:21:08Z 290\n",
      "2020-01-10T17:41:08Z 2020-01-10T22:31:08Z 290\n",
      "2020-01-10T12:51:08Z 2020-01-10T17:41:08Z 290\n",
      "2020-01-10T08:01:08Z 2020-01-10T12:51:08Z 290\n",
      "2020-01-10T03:11:08Z 2020-01-10T08:01:08Z 281\n",
      "saveDone\n",
      "saving\n",
      "2020-01-10T22:32:15Z 2020-01-11T03:22:15Z 290\n",
      "2020-01-10T17:42:15Z 2020-01-10T22:32:15Z 290\n",
      "2020-01-10T12:52:15Z 2020-01-10T17:42:15Z 290\n",
      "2020-01-10T08:02:15Z 2020-01-10T12:52:15Z 290\n",
      "2020-01-10T03:12:15Z 2020-01-10T08:02:15Z 280\n",
      "saveDone\n",
      "saving\n",
      "2020-01-10T22:33:22Z 2020-01-11T03:23:22Z 290\n",
      "2020-01-10T17:43:22Z 2020-01-10T22:33:22Z 290\n",
      "2020-01-10T12:53:22Z 2020-01-10T17:43:22Z 290\n",
      "2020-01-10T08:03:22Z 2020-01-10T12:53:22Z 290\n",
      "2020-01-10T03:13:22Z 2020-01-10T08:03:22Z 280\n",
      "saveDone\n",
      "timerCancel\n"
     ]
    }
   ],
   "source": [
    "from datetime import datetime\n",
    "import time\n",
    "from threading import Timer\n",
    "\n",
    "cancelTimer = False\n",
    "def saveNewData(instrument_id, granularity):\n",
    "    print('saving')\n",
    "    data = getCandles(instrument_id, granularity)\n",
    "    symbol = 'btc_usdt_cq.future:okex'\n",
    "    client = pymongo.MongoClient('localhost', 33333)\n",
    "    collection = client['VnTrader_1Min_Db_Coin'][symbol]\n",
    "    collection.create_index([('datetime', pymongo.ASCENDING)], unique=True)\n",
    "    transfer2VNPY(data, symbol, collection)\n",
    "    if not cancelTimer:\n",
    "        t = Timer(65, saveNewData, ('BTC-USDT-200327', 60))\n",
    "        t.start()\n",
    "    else:\n",
    "        print(\"timerCancel\")        \n",
    "\n",
    "t = Timer(10, saveNewData, ('BTC-USDT-200327', 60))\n",
    "t.start()\n",
    "\n",
    "time.sleep(300)\n",
    "cancelTimer = True"
   ]
  }
 ],
 "metadata": {
  "kernelspec": {
   "display_name": "Python 3",
   "language": "python",
   "name": "python3"
  },
  "language_info": {
   "codemirror_mode": {
    "name": "ipython",
    "version": 3
   },
   "file_extension": ".py",
   "mimetype": "text/x-python",
   "name": "python",
   "nbconvert_exporter": "python",
   "pygments_lexer": "ipython3",
   "version": "3.6.1"
  }
 },
 "nbformat": 4,
 "nbformat_minor": 2
}
