{
 "cells": [
  {
   "cell_type": "markdown",
   "metadata": {},
   "source": [
    "# 获取Candle数据\n",
    "\n",
    "API文档： https://www.okex.me/docs/zh/#futures-line\n",
    "\n",
    "参数： instrument_id, start, end, granularity"
   ]
  },
  {
   "cell_type": "code",
   "execution_count": 1,
   "metadata": {
    "collapsed": true
   },
   "outputs": [],
   "source": [
    "import pandas as pd\n",
    "from datetime import datetime,timedelta\n",
    "import requests\n",
    "import json"
   ]
  },
  {
   "cell_type": "code",
   "execution_count": 2,
   "metadata": {},
   "outputs": [
    {
     "name": "stdout",
     "output_type": "stream",
     "text": [
      "                            0       1       2       3       4        5  \\\n",
      "295  2020-01-10T22:07:00.000Z  8157.1  8157.1  8151.4  8151.4   617422   \n",
      "296  2020-01-10T22:06:00.000Z  8161.8  8161.9  8158.2    8160   679030   \n",
      "297  2020-01-10T22:05:00.000Z  8162.6  8165.8    8157  8161.8   273234   \n",
      "298  2020-01-10T22:04:00.000Z  8164.9  8167.2  8159.2  8162.5   653232   \n",
      "299  2020-01-10T22:03:00.000Z  8164.1  8169.6  8152.9  8164.8  1055831   \n",
      "\n",
      "            6  \n",
      "295   61.7422  \n",
      "296    67.903  \n",
      "297   27.3234  \n",
      "298   65.3232  \n",
      "299  105.5831  \n"
     ]
    }
   ],
   "source": [
    "url = 'https://www.okex.me/api/futures/v3/instruments/BTC-USDT-200327/candles?'\n",
    "params = {'granularity':60, 'end': datetime.utcfromtimestamp(int(datetime.timestamp(datetime.now()))).strftime('%Y-%m-%dT%H:%M:%SZ')}\n",
    "r = requests.get(url, params = params,timeout=10).json()\n",
    "print(pd.DataFrame(r).tail())"
   ]
  },
  {
   "cell_type": "markdown",
   "metadata": {},
   "source": [
    "# 循环获取K线\n",
    "限制1440根"
   ]
  },
  {
   "cell_type": "code",
   "execution_count": 3,
   "metadata": {
    "collapsed": true
   },
   "outputs": [],
   "source": [
    "def make_ts(dt):\n",
    "    return int(datetime.timestamp(dt))\n",
    "def make_dtstr(ts):\n",
    "    return datetime.utcfromtimestamp(ts).strftime('%Y-%m-%dT%H:%M:%SZ')\n",
    "\n",
    "def getCandles(instrument_id, granularity, start=None, end=None):\n",
    "    params = {'granularity':granularity}\n",
    "    url = 'https://www.okex.me/api/futures/v3/instruments/'+instrument_id+'/candles?'\n",
    "    end_ts = make_ts(datetime.now())\n",
    "    candles=[]\n",
    "    for i in range(5):\n",
    "        r_start=end_ts- 290 * granularity\n",
    "        params[\"start\"]= make_dtstr(r_start)\n",
    "        params[\"end\"] = make_dtstr(end_ts)\n",
    "        # 访问接口数据转化为json格式\n",
    "        # headers={\"contentType\": \"application/x-www-form-urlencoded\"}, \n",
    "        r = requests.get(url, params = params,timeout=10).json()\n",
    "        print(params[\"start\"],params[\"end\"],len(r))\n",
    "        candles.extend(r)\n",
    "        end_ts = r_start\n",
    "    # 转DataFrame与转datetime格式\n",
    "    btcDf = pd.DataFrame(candles, columns=['datetime', 'open', 'high', 'low', 'close', 'volume', 'BTC_volume'])\n",
    "    btcDf[\"datetime\"] = list(map(lambda x: datetime.strptime(x, \"%Y-%m-%dT%H:%M:%S.%fZ\"), btcDf[\"datetime\"]))\n",
    "    return btcDf"
   ]
  },
  {
   "cell_type": "code",
   "execution_count": 4,
   "metadata": {},
   "outputs": [
    {
     "name": "stdout",
     "output_type": "stream",
     "text": [
      "2020-01-10T22:12:20Z 2020-01-11T03:02:20Z 290\n",
      "2020-01-10T17:22:20Z 2020-01-10T22:12:20Z 290\n",
      "2020-01-10T12:32:20Z 2020-01-10T17:22:20Z 290\n",
      "2020-01-10T07:42:20Z 2020-01-10T12:32:20Z 290\n",
      "2020-01-10T02:52:20Z 2020-01-10T07:42:20Z 280\n"
     ]
    }
   ],
   "source": [
    "btcDf = getCandles('BTC-USDT-200327',60)"
   ]
  },
  {
   "cell_type": "code",
   "execution_count": 5,
   "metadata": {},
   "outputs": [
    {
     "data": {
      "text/html": [
       "<div>\n",
       "<style scoped>\n",
       "    .dataframe tbody tr th:only-of-type {\n",
       "        vertical-align: middle;\n",
       "    }\n",
       "\n",
       "    .dataframe tbody tr th {\n",
       "        vertical-align: top;\n",
       "    }\n",
       "\n",
       "    .dataframe thead th {\n",
       "        text-align: right;\n",
       "    }\n",
       "</style>\n",
       "<table border=\"1\" class=\"dataframe\">\n",
       "  <thead>\n",
       "    <tr style=\"text-align: right;\">\n",
       "      <th></th>\n",
       "      <th>datetime</th>\n",
       "      <th>open</th>\n",
       "      <th>high</th>\n",
       "      <th>low</th>\n",
       "      <th>close</th>\n",
       "      <th>volume</th>\n",
       "      <th>BTC_volume</th>\n",
       "    </tr>\n",
       "  </thead>\n",
       "  <tbody>\n",
       "    <tr>\n",
       "      <th>1435</th>\n",
       "      <td>2020-01-10 03:07:00</td>\n",
       "      <td>7905.6</td>\n",
       "      <td>7905.6</td>\n",
       "      <td>7902.9</td>\n",
       "      <td>7902.9</td>\n",
       "      <td>6001</td>\n",
       "      <td>0.6001</td>\n",
       "    </tr>\n",
       "    <tr>\n",
       "      <th>1436</th>\n",
       "      <td>2020-01-10 03:06:00</td>\n",
       "      <td>7907.7</td>\n",
       "      <td>7907.7</td>\n",
       "      <td>7904.1</td>\n",
       "      <td>7905.3</td>\n",
       "      <td>131359</td>\n",
       "      <td>13.1359</td>\n",
       "    </tr>\n",
       "    <tr>\n",
       "      <th>1437</th>\n",
       "      <td>2020-01-10 03:05:00</td>\n",
       "      <td>7907.7</td>\n",
       "      <td>7909.5</td>\n",
       "      <td>7904.3</td>\n",
       "      <td>7907.2</td>\n",
       "      <td>20672</td>\n",
       "      <td>2.0672</td>\n",
       "    </tr>\n",
       "    <tr>\n",
       "      <th>1438</th>\n",
       "      <td>2020-01-10 03:04:00</td>\n",
       "      <td>7905.9</td>\n",
       "      <td>7908</td>\n",
       "      <td>7905.9</td>\n",
       "      <td>7907.7</td>\n",
       "      <td>139683</td>\n",
       "      <td>13.9683</td>\n",
       "    </tr>\n",
       "    <tr>\n",
       "      <th>1439</th>\n",
       "      <td>2020-01-10 03:03:00</td>\n",
       "      <td>7900.4</td>\n",
       "      <td>7908.4</td>\n",
       "      <td>7897.8</td>\n",
       "      <td>7905.9</td>\n",
       "      <td>521051</td>\n",
       "      <td>52.1051</td>\n",
       "    </tr>\n",
       "  </tbody>\n",
       "</table>\n",
       "</div>"
      ],
      "text/plain": [
       "                datetime    open    high     low   close  volume BTC_volume\n",
       "1435 2020-01-10 03:07:00  7905.6  7905.6  7902.9  7902.9    6001     0.6001\n",
       "1436 2020-01-10 03:06:00  7907.7  7907.7  7904.1  7905.3  131359    13.1359\n",
       "1437 2020-01-10 03:05:00  7907.7  7909.5  7904.3  7907.2   20672     2.0672\n",
       "1438 2020-01-10 03:04:00  7905.9    7908  7905.9  7907.7  139683    13.9683\n",
       "1439 2020-01-10 03:03:00  7900.4  7908.4  7897.8  7905.9  521051    52.1051"
      ]
     },
     "execution_count": 5,
     "metadata": {},
     "output_type": "execute_result"
    }
   ],
   "source": [
    "btcDf.tail()"
   ]
  },
  {
   "cell_type": "markdown",
   "metadata": {},
   "source": [
    "## 转成VNPY需要的数据格式"
   ]
  },
  {
   "cell_type": "code",
   "execution_count": 6,
   "metadata": {
    "collapsed": true
   },
   "outputs": [],
   "source": [
    "import pymongo\n",
    "\n",
    "symbol = 'btc_usdt_cq.future:okex'\n",
    "client = pymongo.MongoClient('localhost', 33333)\n",
    "\n",
    "collection = client['VnTrader_1Min_Db_Coin'][symbol]\n",
    "collection.create_index([('datetime', pymongo.ASCENDING)], unique=True)\n",
    "\n",
    "def transfer2VNPY(data, symbol, collection):\n",
    "    for index, row in data.iterrows():\n",
    "        bar = {}\n",
    "        bar['open'] = row.open\n",
    "        bar['close'] = row.close\n",
    "        bar['high'] = row.high\n",
    "        bar['low'] = row.low\n",
    "        bar['volume'] = row.volume\n",
    "        bar['symbol'] = symbol\n",
    "        bar['vtSymbol'] = symbol\n",
    "        bar['datetime'] = row.datetime\n",
    "        bar['date'] = bar['datetime'].date().strftime('%Y%m%d')\n",
    "        bar['time'] = bar['datetime'].time().strftime('%H:%M:%S')\n",
    "        ######################################\n",
    "        flt = {'datetime': bar['datetime']}\n",
    "        ######################################\n",
    "        collection.update_one(flt, {'$set':bar}, upsert=True)\n",
    "    print('saveDone')"
   ]
  },
  {
   "cell_type": "code",
   "execution_count": 7,
   "metadata": {
    "collapsed": true
   },
   "outputs": [],
   "source": [
    "# transfer2VNPY(btcDf, symbol, collection)"
   ]
  },
  {
   "cell_type": "markdown",
   "metadata": {},
   "source": [
    "# 定时任务\n",
    "Timer 函数第一个参数是时间间隔（单位是秒），第二个参数是要调用的函数名，第三个参数是调用函数的参数(tuple)"
   ]
  },
  {
   "cell_type": "code",
   "execution_count": 8,
   "metadata": {
    "collapsed": true
   },
   "outputs": [],
   "source": [
    "# from datetime import datetime\n",
    "# from threading import Timer\n",
    "# # 打印时间函数\n",
    "# def printTime(inc):\n",
    "#     print(datetime.now().strftime(\"%Y-%m-%d %H:%M:%S\"))\n",
    "#     t = Timer(inc, printTime, (inc,))\n",
    "#     t.start()\n",
    "# # 5s\n",
    "# printTime(5)"
   ]
  },
  {
   "cell_type": "code",
   "execution_count": 8,
   "metadata": {},
   "outputs": [
    {
     "name": "stdout",
     "output_type": "stream",
     "text": [
      "saving\n",
      "2020-01-10T22:12:33Z 2020-01-11T03:02:33Z 290\n",
      "2020-01-10T17:22:33Z 2020-01-10T22:12:33Z 290\n",
      "2020-01-10T12:32:33Z 2020-01-10T17:22:33Z 290\n",
      "2020-01-10T07:42:33Z 2020-01-10T12:32:33Z 290\n",
      "2020-01-10T02:52:33Z 2020-01-10T07:42:33Z 280\n",
      "saveDone\n",
      "saving\n",
      "2020-01-10T22:13:40Z 2020-01-11T03:03:40Z 290\n",
      "2020-01-10T17:23:40Z 2020-01-10T22:13:40Z 290\n",
      "2020-01-10T12:33:40Z 2020-01-10T17:23:40Z 290\n",
      "2020-01-10T07:43:40Z 2020-01-10T12:33:40Z 290\n",
      "2020-01-10T02:53:40Z 2020-01-10T07:43:40Z 280\n",
      "saveDone\n",
      "saving\n",
      "2020-01-10T22:14:47Z 2020-01-11T03:04:47Z 290\n",
      "2020-01-10T17:24:47Z 2020-01-10T22:14:47Z 290\n",
      "2020-01-10T12:34:47Z 2020-01-10T17:24:47Z 290\n",
      "2020-01-10T07:44:47Z 2020-01-10T12:34:47Z 290\n",
      "2020-01-10T02:54:47Z 2020-01-10T07:44:47Z 280\n",
      "saveDone\n",
      "saving\n",
      "2020-01-10T22:15:54Z 2020-01-11T03:05:54Z 290\n",
      "2020-01-10T17:25:54Z 2020-01-10T22:15:54Z 290\n",
      "2020-01-10T12:35:54Z 2020-01-10T17:25:54Z 290\n",
      "2020-01-10T07:45:54Z 2020-01-10T12:35:54Z 290\n",
      "2020-01-10T02:55:54Z 2020-01-10T07:45:54Z 280\n",
      "saveDone\n",
      "saving\n",
      "2020-01-10T22:17:01Z 2020-01-11T03:07:01Z 289\n",
      "2020-01-10T17:27:01Z 2020-01-10T22:17:01Z 290\n",
      "2020-01-10T12:37:01Z 2020-01-10T17:27:01Z 290\n",
      "2020-01-10T07:47:01Z 2020-01-10T12:37:01Z 290\n",
      "2020-01-10T02:57:01Z 2020-01-10T07:47:01Z 281\n",
      "saveDone\n",
      "timerCancel\n",
      "saving\n",
      "2020-01-10T22:18:08Z 2020-01-11T03:08:08Z 290\n",
      "2020-01-10T17:28:08Z 2020-01-10T22:18:08Z 290\n",
      "2020-01-10T12:38:08Z 2020-01-10T17:28:08Z 290\n",
      "2020-01-10T07:48:08Z 2020-01-10T12:38:08Z 290\n",
      "2020-01-10T02:58:08Z 2020-01-10T07:48:08Z 280\n",
      "saveDone\n"
     ]
    }
   ],
   "source": [
    "from datetime import datetime\n",
    "import time\n",
    "from threading import Timer\n",
    "\n",
    "cancelTimer = False\n",
    "def saveNewData(instrument_id, granularity):\n",
    "    print('saving')\n",
    "    data = getCandles(instrument_id, granularity)\n",
    "    symbol = 'btc_usdt_cq.future:okex'\n",
    "    client = pymongo.MongoClient('localhost', 33333)\n",
    "    collection = client['VnTrader_1Min_Db_Coin'][symbol]\n",
    "    collection.create_index([('datetime', pymongo.ASCENDING)], unique=True)\n",
    "    transfer2VNPY(data, symbol, collection)\n",
    "    if not cancelTimer:\n",
    "        t = Timer(65, saveNewData, ('BTC-USDT-200327', 60))\n",
    "        t.start()\n",
    "    else:\n",
    "        print(\"timerCancel\")        \n",
    "\n",
    "t = Timer(10, saveNewData, ('BTC-USDT-200327', 60))\n",
    "t.start()\n",
    "\n",
    "time.sleep(300)\n",
    "cancelTimer = True"
   ]
  },
  {
   "cell_type": "code",
   "execution_count": null,
   "metadata": {
    "collapsed": true
   },
   "outputs": [],
   "source": []
  }
 ],
 "metadata": {
  "kernelspec": {
   "display_name": "Python 3",
   "language": "python",
   "name": "python3"
  },
  "language_info": {
   "codemirror_mode": {
    "name": "ipython",
    "version": 3
   },
   "file_extension": ".py",
   "mimetype": "text/x-python",
   "name": "python",
   "nbconvert_exporter": "python",
   "pygments_lexer": "ipython3",
   "version": "3.6.1"
  }
 },
 "nbformat": 4,
 "nbformat_minor": 2
}
